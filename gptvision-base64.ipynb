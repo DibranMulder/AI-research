{
 "cells": [
  {
   "cell_type": "code",
   "execution_count": null,
   "metadata": {},
   "outputs": [],
   "source": [
    "%pip install python-dotenv"
   ]
  },
  {
   "cell_type": "code",
   "execution_count": null,
   "metadata": {},
   "outputs": [],
   "source": [
    "from dotenv import load_dotenv\n",
    "import os\n",
    "load_dotenv()\n",
    "\n",
    "resource_name = os.getenv('RESOURCE_NAME')\n",
    "api_version = os.getenv('API_VERSION')\n",
    "key = os.getenv('AZURE_OPENAI_KEY')\n",
    "deployment_name = os.getenv('DEPLOYMENT_NAME')"
   ]
  },
  {
   "cell_type": "code",
   "execution_count": null,
   "metadata": {},
   "outputs": [],
   "source": [
    "import base64\n",
    "import requests\n",
    "\n",
    "# Replace the URL with the actual image URL you want to encode\n",
    "image_url = \"https://github.com/DibranMulder/AI-research/blob/main/images/Ragmodules.png?raw=true\"\n",
    "\n",
    "# Download the image\n",
    "response = requests.get(image_url)\n",
    "image_data = response.content\n",
    "\n",
    "# Encode the image data in base64\n",
    "encoded_image = base64.b64encode(image_data).decode()\n",
    "\n",
    "data_url = f\"data:image/jpeg;base64,{encoded_image}\"\n",
    "print(data_url)"
   ]
  },
  {
   "cell_type": "code",
   "execution_count": null,
   "metadata": {},
   "outputs": [],
   "source": [
    "import requests\n",
    "\n",
    "url = f\"https://{resource_name}.openai.azure.com/openai/deployments/{deployment_name}/chat/completions?api-version={api_version}\"\n",
    "headers = {\n",
    "    \"Content-Type\": \"application/json\",\n",
    "    \"api-key\": key\n",
    "}\n",
    "data = {\n",
    "    \"max_tokens\": 1000,\n",
    "    \"messages\": [\n",
    "        { \"role\": \"system\", \"content\": \"You are a helpful assistant.\" },\n",
    "        {\n",
    "            \"role\": \"user\", \n",
    "            \"content\": [\n",
    "\t            {\n",
    "\t                \"type\": \"text\",\n",
    "\t                \"text\": \"Describe this picture:\"\n",
    "\t            },\n",
    "\t            {\n",
    "\t                \"type\": \"image_url\",\n",
    "\t                \"image_url\": {\n",
    "                        \"url\": data_url\n",
    "                    }\n",
    "                } \n",
    "           ] \n",
    "        }\n",
    "    ]\n",
    "}\n",
    "\n",
    "response = requests.post(url, headers=headers, json=data)\n",
    "res = response.json()\n",
    "#print(res)\n",
    "print(res[\"choices\"][0][\"message\"][\"content\"])"
   ]
  }
 ],
 "metadata": {
  "kernelspec": {
   "display_name": "Python 3",
   "language": "python",
   "name": "python3"
  },
  "language_info": {
   "codemirror_mode": {
    "name": "ipython",
    "version": 3
   },
   "file_extension": ".py",
   "mimetype": "text/x-python",
   "name": "python",
   "nbconvert_exporter": "python",
   "pygments_lexer": "ipython3",
   "version": "3.11.4"
  }
 },
 "nbformat": 4,
 "nbformat_minor": 2
}
