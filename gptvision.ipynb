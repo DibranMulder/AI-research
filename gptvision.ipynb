{
 "cells": [
  {
   "cell_type": "code",
   "execution_count": 1,
   "metadata": {},
   "outputs": [
    {
     "name": "stdout",
     "output_type": "stream",
     "text": [
      "Requirement already satisfied: python-dotenv in c:\\users\\dibra\\appdata\\local\\programs\\python\\python311\\lib\\site-packages (1.0.0)\n",
      "Note: you may need to restart the kernel to use updated packages.\n"
     ]
    },
    {
     "name": "stderr",
     "output_type": "stream",
     "text": [
      "\n",
      "[notice] A new release of pip is available: 23.1.2 -> 23.3.2\n",
      "[notice] To update, run: python.exe -m pip install --upgrade pip\n"
     ]
    }
   ],
   "source": [
    "%pip install python-dotenv"
   ]
  },
  {
   "cell_type": "code",
   "execution_count": 5,
   "metadata": {},
   "outputs": [
    {
     "name": "stdout",
     "output_type": "stream",
     "text": [
      "dibranaigpt4vision\n",
      "2023-12-01-preview\n",
      "2e8e5f89896645f9b2c0d0e143a92a1d\n",
      "gptvision\n"
     ]
    }
   ],
   "source": [
    "from dotenv import load_dotenv\n",
    "import os\n",
    "load_dotenv()\n",
    "\n",
    "resource_name = os.getenv('RESOURCE_NAME')\n",
    "api_version = os.getenv('API_VERSION')\n",
    "key = os.getenv('AZURE_OPENAI_KEY')\n",
    "deployment_name = os.getenv('DEPLOYMENT_NAME')"
   ]
  },
  {
   "cell_type": "code",
   "execution_count": 19,
   "metadata": {},
   "outputs": [
    {
     "name": "stdout",
     "output_type": "stream",
     "text": [
      "The image depicts three visual diagrams, presumably representing the workflow of a Retriever-Reader-Generator (RAG) machine learning model in different advanced stages. The models are labeled as \"Naive RAG,\" \"Advanced RAG,\" and \"Modular RAG,\" each showing a progression in complexity and functionality.\n",
      "\n",
      "In the \"Naive RAG\" diagram on the left, there are three main components at the top horizontally aligned: \"User,\" \"Query,\" and \"Documents.\" These feed into \"Document Chunks,\" which then proceed to a \"Vector Database.\" The output from this stage is \"Related Document Chunks\" which culminates in a \"Prompt\" to a Language Model (LLM) symbolized with a molecule-like icon.\n",
      "\n",
      "The \"Advanced RAG\" diagram in the center follows a similar flow but includes additional steps and modifications, such as \"Fine-grained Data Cleaning,\" \"Sliding Window / Small2Big,\" adding \"File Structure,\" and \"Query Rewrite/Clarification.\" These steps lead to a stage called \"Pre-Retrieval.\" The flow then proceeds similarly to the \"Naive RAG\" but adds the \"Post-Retrieval\" process which incorporates \"Rerank,\" \"Filter,\" and \"Prompt Compression\" before reaching the Language Model.\n",
      "\n",
      "The diagram on the right represents \"Modular RAG\" and is divided into two sections: \"New Modules\" and \"New Patterns.\" The \"New Modules\" section includes a workflow starting with \"Search\" and \"Predict\" then moves to \"Retrieve,\" which connects to \"RAG,\" \"Rewrite,\" \"Read,\" \"Rerank,\" and includes additional actions such as \"Criticize,\" \"Demonstrate,\" \"Reflect,\" and \"Filter.\"\n",
      "\n",
      "The \"New Patterns\" segment showcases four patterns of module combinations, such as \"Rewrite,\" \"Retrieve,\" \"Read,\" and others in different configurations, each labelled with references like \"RRR,\" \"DSP,\" \"ITER-RETGEN,\" and \"Self-RAG,\" signifying different methods or studies associated with each pattern.\n",
      "\n",
      "Each module is represented in a rectangular or rounded container with icons that symbolize its function, such as a magnifying glass for \"Search,\" a pencil for \"Rewrite,\" or a book for \"Read.\" The diagrams feature connecting arrows that define the workflow and the steps that the data takes through the system. Additionally, some subtle visual enhancements like dashed borders enclosing related processes and directional arrows show the flow or sequence of operations. Overall, the picture is designed with a clean and structured layout, using shades of blue and orange to denote different parts of the process.\n",
      "{\"id\":\"chatcmpl-8cWjoD8tSvl2JfLNrQsYqDZLqdQ3G\",\"object\":\"chat.completion\",\"created\":1704193000,\"model\":\"gpt-4\",\"prompt_filter_results\":[{\"prompt_index\":0,\"content_filter_results\":{\"hate\":{\"filtered\":false,\"severity\":\"safe\"},\"self_harm\":{\"filtered\":false,\"severity\":\"safe\"},\"sexual\":{\"filtered\":false,\"severity\":\"safe\"},\"violence\":{\"filtered\":false,\"severity\":\"safe\"}}}],\"choices\":[{\"finish_details\":{\"type\":\"stop\",\"stop\":\"<|fim_suffix|>\"},\"index\":0,\"message\":{\"role\":\"assistant\",\"content\":\"The image depicts three visual diagrams, presumably representing the workflow of a Retriever-Reader-Generator (RAG) machine learning model in different advanced stages. The models are labeled as \\\"Naive RAG,\\\" \\\"Advanced RAG,\\\" and \\\"Modular RAG,\\\" each showing a progression in complexity and functionality.\\n\\nIn the \\\"Naive RAG\\\" diagram on the left, there are three main components at the top horizontally aligned: \\\"User,\\\" \\\"Query,\\\" and \\\"Documents.\\\" These feed into \\\"Document Chunks,\\\" which then proceed to a \\\"Vector Database.\\\" The output from this stage is \\\"Related Document Chunks\\\" which culminates in a \\\"Prompt\\\" to a Language Model (LLM) symbolized with a molecule-like icon.\\n\\nThe \\\"Advanced RAG\\\" diagram in the center follows a similar flow but includes additional steps and modifications, such as \\\"Fine-grained Data Cleaning,\\\" \\\"Sliding Window / Small2Big,\\\" adding \\\"File Structure,\\\" and \\\"Query Rewrite/Clarification.\\\" These steps lead to a stage called \\\"Pre-Retrieval.\\\" The flow then proceeds similarly to the \\\"Naive RAG\\\" but adds the \\\"Post-Retrieval\\\" process which incorporates \\\"Rerank,\\\" \\\"Filter,\\\" and \\\"Prompt Compression\\\" before reaching the Language Model.\\n\\nThe diagram on the right represents \\\"Modular RAG\\\" and is divided into two sections: \\\"New Modules\\\" and \\\"New Patterns.\\\" The \\\"New Modules\\\" section includes a workflow starting with \\\"Search\\\" and \\\"Predict\\\" then moves to \\\"Retrieve,\\\" which connects to \\\"RAG,\\\" \\\"Rewrite,\\\" \\\"Read,\\\" \\\"Rerank,\\\" and includes additional actions such as \\\"Criticize,\\\" \\\"Demonstrate,\\\" \\\"Reflect,\\\" and \\\"Filter.\\\"\\n\\nThe \\\"New Patterns\\\" segment showcases four patterns of module combinations, such as \\\"Rewrite,\\\" \\\"Retrieve,\\\" \\\"Read,\\\" and others in different configurations, each labelled with references like \\\"RRR,\\\" \\\"DSP,\\\" \\\"ITER-RETGEN,\\\" and \\\"Self-RAG,\\\" signifying different methods or studies associated with each pattern.\\n\\nEach module is represented in a rectangular or rounded container with icons that symbolize its function, such as a magnifying glass for \\\"Search,\\\" a pencil for \\\"Rewrite,\\\" or a book for \\\"Read.\\\" The diagrams feature connecting arrows that define the workflow and the steps that the data takes through the system. Additionally, some subtle visual enhancements like dashed borders enclosing related processes and directional arrows show the flow or sequence of operations. Overall, the picture is designed with a clean and structured layout, using shades of blue and orange to denote different parts of the process.\"},\"content_filter_results\":{\"hate\":{\"filtered\":false,\"severity\":\"safe\"},\"self_harm\":{\"filtered\":false,\"severity\":\"safe\"},\"sexual\":{\"filtered\":false,\"severity\":\"safe\"},\"violence\":{\"filtered\":false,\"severity\":\"safe\"}}}],\"usage\":{\"prompt_tokens\":1129,\"completion_tokens\":534,\"total_tokens\":1663}}\n"
     ]
    }
   ],
   "source": [
    "import requests\n",
    "\n",
    "url = f\"https://{resource_name}.openai.azure.com/openai/deployments/{deployment_name}/chat/completions?api-version={api_version}\"\n",
    "headers = {\n",
    "    \"Content-Type\": \"application/json\",\n",
    "    \"api-key\": key\n",
    "}\n",
    "data = {\n",
    "    \"max_tokens\": 1000, \n",
    "    \"messages\": [\n",
    "        { \"role\": \"system\", \"content\": \"You are a helpful assistant.\" },\n",
    "        {\n",
    "            \"role\": \"user\", \n",
    "            \"content\": [\n",
    "                {\"type\": \"text\", \"text\": \"Describe this picture in great detail:\"}, \n",
    "                {\"type\": \"image_url\", \"image_url\": {\"url\": \"https://github.com/DibranMulder/AI-research/blob/main/images/Ragmodules.png?raw=true\", \"detail\": \"auto\"}}\n",
    "            ]\n",
    "        }\n",
    "    ]\n",
    "}\n",
    "\n",
    "response = requests.post(url, headers=headers, json=data)\n",
    "res = response.json()\n",
    "print(res[\"choices\"][0][\"message\"][\"content\"])"
   ]
  }
 ],
 "metadata": {
  "kernelspec": {
   "display_name": "Python 3",
   "language": "python",
   "name": "python3"
  },
  "language_info": {
   "codemirror_mode": {
    "name": "ipython",
    "version": 3
   },
   "file_extension": ".py",
   "mimetype": "text/x-python",
   "name": "python",
   "nbconvert_exporter": "python",
   "pygments_lexer": "ipython3",
   "version": "3.11.4"
  }
 },
 "nbformat": 4,
 "nbformat_minor": 2
}
