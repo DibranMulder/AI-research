{
 "cells": [
  {
   "cell_type": "code",
   "execution_count": 13,
   "metadata": {},
   "outputs": [
    {
     "name": "stdout",
     "output_type": "stream",
     "text": [
      "Requirement already satisfied: python-dotenv in c:\\users\\dibra\\appdata\\local\\programs\\python\\python311\\lib\\site-packages (1.0.0)\n",
      "Note: you may need to restart the kernel to use updated packages.\n"
     ]
    },
    {
     "name": "stderr",
     "output_type": "stream",
     "text": [
      "\n",
      "[notice] A new release of pip is available: 23.1.2 -> 23.3.2\n",
      "[notice] To update, run: python.exe -m pip install --upgrade pip\n"
     ]
    }
   ],
   "source": [
    "%pip install python-dotenv"
   ]
  },
  {
   "cell_type": "code",
   "execution_count": 14,
   "metadata": {},
   "outputs": [
    {
     "name": "stdout",
     "output_type": "stream",
     "text": [
      "dibranaigpt4vision\n",
      "2023-12-01-preview\n",
      "2e8e5f89896645f9b2c0d0e143a92a1d\n",
      "gptvision\n"
     ]
    }
   ],
   "source": [
    "from dotenv import load_dotenv\n",
    "import os\n",
    "load_dotenv()\n",
    "\n",
    "resource_name = os.getenv('RESOURCE_NAME')\n",
    "api_version = os.getenv('API_VERSION')\n",
    "key = os.getenv('AZURE_OPENAI_KEY')\n",
    "deployment_name = os.getenv('DEPLOYMENT_NAME')\n",
    "\n",
    "print(resource_name)\n",
    "print(api_version)\n",
    "print(key)\n",
    "print(deployment_name)"
   ]
  },
  {
   "cell_type": "code",
   "execution_count": 15,
   "metadata": {},
   "outputs": [],
   "source": [
    "import base64\n",
    "import requests\n",
    "\n",
    "\n",
    "def image_to_base64_data_url(file_path):\n",
    "    with open(file_path, \"rb\") as image_file:\n",
    "        encoded_string = base64.b64encode(image_file.read()).decode()\n",
    "    return f\"data:image/png;base64,{encoded_string}\"\n",
    "\n",
    "\n",
    "\n",
    "product1 = image_to_base64_data_url('images/fenix6.png')\n",
    "product2 = image_to_base64_data_url('images/fenix7.png')"
   ]
  },
  {
   "cell_type": "code",
   "execution_count": 19,
   "metadata": {},
   "outputs": [
    {
     "name": "stdout",
     "output_type": "stream",
     "text": [
      "1\n"
     ]
    }
   ],
   "source": [
    "import requests\n",
    "\n",
    "url = f\"https://{resource_name}.openai.azure.com/openai/deployments/{deployment_name}/chat/completions?api-version={api_version}\"\n",
    "headers = {\n",
    "    \"Content-Type\": \"application/json\",\n",
    "    \"api-key\": key\n",
    "}\n",
    "data = {\n",
    "    \"temperature\": 0,\n",
    "    \"max_tokens\": 1000,\n",
    "    \"messages\": [\n",
    "        { \"role\": \"system\", \"content\": \"You are an ecommerce assistant that helps with deduplication of our assortment. Give a confidence score between 0 and 1 that indicates how confident you are that both images depict the same product. New iterations of the same product do not count as the same product. **Return only the score do not elaborate.** If you are unable to process the input return 0.\" },\n",
    "        {\n",
    "            \"role\": \"user\", \n",
    "            \"content\": [\n",
    "                {\n",
    "\t                \"type\": \"text\",\n",
    "\t                \"text\": \"Compare these products:\"\n",
    "\t            },\n",
    "\t            {\n",
    "\t                \"type\": \"image_url\",\n",
    "\t                \"image_url\": {\n",
    "                        \"url\": product1\n",
    "                    }\n",
    "                },\n",
    "                {\n",
    "\t                \"type\": \"image_url\",\n",
    "\t                \"image_url\": {\n",
    "                        \"url\": product2\n",
    "                    }\n",
    "                }\n",
    "           ] \n",
    "        }\n",
    "    ]\n",
    "}\n",
    "\n",
    "response = requests.post(url, headers=headers, json=data)\n",
    "res = response.json()\n",
    "print(res[\"choices\"][0][\"message\"][\"content\"])"
   ]
  }
 ],
 "metadata": {
  "kernelspec": {
   "display_name": "Python 3",
   "language": "python",
   "name": "python3"
  },
  "language_info": {
   "codemirror_mode": {
    "name": "ipython",
    "version": 3
   },
   "file_extension": ".py",
   "mimetype": "text/x-python",
   "name": "python",
   "nbconvert_exporter": "python",
   "pygments_lexer": "ipython3",
   "version": "3.11.4"
  }
 },
 "nbformat": 4,
 "nbformat_minor": 2
}
